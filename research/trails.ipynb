{
 "cells": [
  {
   "cell_type": "code",
   "execution_count": 1,
   "metadata": {},
   "outputs": [],
   "source": [
    "import pandas as pd"
   ]
  },
  {
   "cell_type": "code",
   "execution_count": 2,
   "metadata": {},
   "outputs": [],
   "source": [
    "data = pd.read_csv('D:\\\\Desktop2\\\\desktop3\\\\Desktop2\\\\SECOM\\\\artifacts\\\\data_ingestion\\\\Raw_data.csv')"
   ]
  },
  {
   "cell_type": "code",
   "execution_count": 3,
   "metadata": {},
   "outputs": [
    {
     "data": {
      "text/html": [
       "<div>\n",
       "<style scoped>\n",
       "    .dataframe tbody tr th:only-of-type {\n",
       "        vertical-align: middle;\n",
       "    }\n",
       "\n",
       "    .dataframe tbody tr th {\n",
       "        vertical-align: top;\n",
       "    }\n",
       "\n",
       "    .dataframe thead th {\n",
       "        text-align: right;\n",
       "    }\n",
       "</style>\n",
       "<table border=\"1\" class=\"dataframe\">\n",
       "  <thead>\n",
       "    <tr style=\"text-align: right;\">\n",
       "      <th></th>\n",
       "      <th>feature_1</th>\n",
       "      <th>feature_2</th>\n",
       "      <th>feature_3</th>\n",
       "      <th>feature_4</th>\n",
       "      <th>feature_5</th>\n",
       "      <th>feature_6</th>\n",
       "      <th>feature_7</th>\n",
       "      <th>feature_8</th>\n",
       "      <th>feature_9</th>\n",
       "      <th>feature_10</th>\n",
       "      <th>...</th>\n",
       "      <th>feature_55</th>\n",
       "      <th>feature_56</th>\n",
       "      <th>feature_57</th>\n",
       "      <th>feature_58</th>\n",
       "      <th>feature_59</th>\n",
       "      <th>feature_60</th>\n",
       "      <th>feature_61</th>\n",
       "      <th>feature_62</th>\n",
       "      <th>feature_63</th>\n",
       "      <th>PassFail</th>\n",
       "    </tr>\n",
       "  </thead>\n",
       "  <tbody>\n",
       "    <tr>\n",
       "      <th>0</th>\n",
       "      <td>7.9558</td>\n",
       "      <td>-5419.00</td>\n",
       "      <td>2916.50</td>\n",
       "      <td>1.7730</td>\n",
       "      <td>64.2333</td>\n",
       "      <td>83.3971</td>\n",
       "      <td>9.5126</td>\n",
       "      <td>86.9555</td>\n",
       "      <td>61.29</td>\n",
       "      <td>0.9317</td>\n",
       "      <td>...</td>\n",
       "      <td>29.9394</td>\n",
       "      <td>311.6377</td>\n",
       "      <td>9.7752</td>\n",
       "      <td>64.6707</td>\n",
       "      <td>0.0000</td>\n",
       "      <td>0.1096</td>\n",
       "      <td>0.0078</td>\n",
       "      <td>0.78</td>\n",
       "      <td>0.3157</td>\n",
       "      <td>-1</td>\n",
       "    </tr>\n",
       "    <tr>\n",
       "      <th>1</th>\n",
       "      <td>10.1548</td>\n",
       "      <td>-5441.50</td>\n",
       "      <td>2604.25</td>\n",
       "      <td>2.0143</td>\n",
       "      <td>68.4222</td>\n",
       "      <td>84.9052</td>\n",
       "      <td>9.7997</td>\n",
       "      <td>87.5241</td>\n",
       "      <td>78.25</td>\n",
       "      <td>0.9324</td>\n",
       "      <td>...</td>\n",
       "      <td>40.4475</td>\n",
       "      <td>463.2883</td>\n",
       "      <td>10.2211</td>\n",
       "      <td>141.4365</td>\n",
       "      <td>0.0000</td>\n",
       "      <td>0.1096</td>\n",
       "      <td>0.0078</td>\n",
       "      <td>1.33</td>\n",
       "      <td>0.2653</td>\n",
       "      <td>-1</td>\n",
       "    </tr>\n",
       "    <tr>\n",
       "      <th>2</th>\n",
       "      <td>9.5157</td>\n",
       "      <td>-5447.75</td>\n",
       "      <td>2701.75</td>\n",
       "      <td>2.0295</td>\n",
       "      <td>67.1333</td>\n",
       "      <td>84.7569</td>\n",
       "      <td>8.6590</td>\n",
       "      <td>84.7327</td>\n",
       "      <td>14.37</td>\n",
       "      <td>0.9139</td>\n",
       "      <td>...</td>\n",
       "      <td>32.3594</td>\n",
       "      <td>21.3645</td>\n",
       "      <td>8.3977</td>\n",
       "      <td>240.7767</td>\n",
       "      <td>244.2748</td>\n",
       "      <td>0.1096</td>\n",
       "      <td>0.0078</td>\n",
       "      <td>0.85</td>\n",
       "      <td>0.1882</td>\n",
       "      <td>1</td>\n",
       "    </tr>\n",
       "    <tr>\n",
       "      <th>3</th>\n",
       "      <td>9.6052</td>\n",
       "      <td>-5468.25</td>\n",
       "      <td>2648.25</td>\n",
       "      <td>2.0038</td>\n",
       "      <td>62.9333</td>\n",
       "      <td>84.9105</td>\n",
       "      <td>8.6789</td>\n",
       "      <td>86.6867</td>\n",
       "      <td>76.90</td>\n",
       "      <td>0.9139</td>\n",
       "      <td>...</td>\n",
       "      <td>27.6824</td>\n",
       "      <td>24.2831</td>\n",
       "      <td>9.1494</td>\n",
       "      <td>113.5593</td>\n",
       "      <td>0.0000</td>\n",
       "      <td>0.1096</td>\n",
       "      <td>0.0078</td>\n",
       "      <td>39.33</td>\n",
       "      <td>0.1738</td>\n",
       "      <td>-1</td>\n",
       "    </tr>\n",
       "    <tr>\n",
       "      <th>4</th>\n",
       "      <td>10.5661</td>\n",
       "      <td>-5476.25</td>\n",
       "      <td>2635.25</td>\n",
       "      <td>1.9912</td>\n",
       "      <td>62.8333</td>\n",
       "      <td>86.3269</td>\n",
       "      <td>8.7677</td>\n",
       "      <td>86.1468</td>\n",
       "      <td>76.39</td>\n",
       "      <td>0.9298</td>\n",
       "      <td>...</td>\n",
       "      <td>30.8924</td>\n",
       "      <td>44.8980</td>\n",
       "      <td>7.4365</td>\n",
       "      <td>148.0663</td>\n",
       "      <td>0.0000</td>\n",
       "      <td>0.1096</td>\n",
       "      <td>0.0078</td>\n",
       "      <td>1.98</td>\n",
       "      <td>0.2224</td>\n",
       "      <td>-1</td>\n",
       "    </tr>\n",
       "  </tbody>\n",
       "</table>\n",
       "<p>5 rows × 64 columns</p>\n",
       "</div>"
      ],
      "text/plain": [
       "   feature_1  feature_2  feature_3  feature_4  feature_5  feature_6  \\\n",
       "0     7.9558   -5419.00    2916.50     1.7730    64.2333    83.3971   \n",
       "1    10.1548   -5441.50    2604.25     2.0143    68.4222    84.9052   \n",
       "2     9.5157   -5447.75    2701.75     2.0295    67.1333    84.7569   \n",
       "3     9.6052   -5468.25    2648.25     2.0038    62.9333    84.9105   \n",
       "4    10.5661   -5476.25    2635.25     1.9912    62.8333    86.3269   \n",
       "\n",
       "   feature_7  feature_8  feature_9  feature_10  ...  feature_55  feature_56  \\\n",
       "0     9.5126    86.9555      61.29      0.9317  ...     29.9394    311.6377   \n",
       "1     9.7997    87.5241      78.25      0.9324  ...     40.4475    463.2883   \n",
       "2     8.6590    84.7327      14.37      0.9139  ...     32.3594     21.3645   \n",
       "3     8.6789    86.6867      76.90      0.9139  ...     27.6824     24.2831   \n",
       "4     8.7677    86.1468      76.39      0.9298  ...     30.8924     44.8980   \n",
       "\n",
       "   feature_57  feature_58  feature_59  feature_60  feature_61  feature_62  \\\n",
       "0      9.7752     64.6707      0.0000      0.1096      0.0078        0.78   \n",
       "1     10.2211    141.4365      0.0000      0.1096      0.0078        1.33   \n",
       "2      8.3977    240.7767    244.2748      0.1096      0.0078        0.85   \n",
       "3      9.1494    113.5593      0.0000      0.1096      0.0078       39.33   \n",
       "4      7.4365    148.0663      0.0000      0.1096      0.0078        1.98   \n",
       "\n",
       "   feature_63  PassFail  \n",
       "0      0.3157        -1  \n",
       "1      0.2653        -1  \n",
       "2      0.1882         1  \n",
       "3      0.1738        -1  \n",
       "4      0.2224        -1  \n",
       "\n",
       "[5 rows x 64 columns]"
      ]
     },
     "execution_count": 3,
     "metadata": {},
     "output_type": "execute_result"
    }
   ],
   "source": [
    "data.head()"
   ]
  },
  {
   "cell_type": "code",
   "execution_count": 6,
   "metadata": {},
   "outputs": [
    {
     "data": {
      "text/plain": [
       "feature_1     float64\n",
       "feature_2     float64\n",
       "feature_3     float64\n",
       "feature_4     float64\n",
       "feature_5     float64\n",
       "               ...   \n",
       "feature_60    float64\n",
       "feature_61    float64\n",
       "feature_62    float64\n",
       "feature_63    float64\n",
       "PassFail        int64\n",
       "Length: 64, dtype: object"
      ]
     },
     "execution_count": 6,
     "metadata": {},
     "output_type": "execute_result"
    }
   ],
   "source": [
    "data.dtypes"
   ]
  },
  {
   "cell_type": "code",
   "execution_count": 1,
   "metadata": {},
   "outputs": [],
   "source": [
    "mylist = [10.285644423323834,-5593.340599825043,2699.1360664802733,1.9530225646481287,69.20370540118755,85.73066751854122,8.779652350622023,86.71530373753588,76.4967476746405,0.9358831308133988,4.664674088660294,6.505188720549239,34.70479473696337,33.49481127945076,39.13703829720074,148.1756635378243,585.6713206578902,-0.0432180005023944,0.0059993044497611,8859.961648749395,0.0001214782535884,7.852174641151413e-05,-0.0079771306459339,0.0,15.817852174641152,4.071680046890151,15.863556523923451,15.83496522248806,1.4918930696173356,2.5964573870813217,-0.0742815721052923,0.7035973016028592,1012.1297589954576,821.7508916093022,601.0206212716222,0.1397309905758448,0.1232296279346414,2.834226293837928,16.06410458373306,28.575757562205368,9.036409117226668,14.29999161961856,11.945191485646705,17.377548813401315,7.082060672247968,0.1103084387799212,0.014205304617226,5.139714497560076,3.123664501675293,0.0338265230861301,0.0054531299760746,16.803385468309937,23.669465331932976,13.833674724470209,37.65741215971212,149.61129370728816,13.623696329235846,54.29871053537472,794.3313759862966,0.1096,0.0078,1.502678287081451,0.328101298923422]"
   ]
  },
  {
   "cell_type": "code",
   "execution_count": 2,
   "metadata": {},
   "outputs": [
    {
     "data": {
      "text/plain": [
       "63"
      ]
     },
     "execution_count": 2,
     "metadata": {},
     "output_type": "execute_result"
    }
   ],
   "source": [
    "len(mylist)"
   ]
  },
  {
   "cell_type": "code",
   "execution_count": 6,
   "metadata": {},
   "outputs": [
    {
     "data": {
      "text/html": [
       "<div>\n",
       "<style scoped>\n",
       "    .dataframe tbody tr th:only-of-type {\n",
       "        vertical-align: middle;\n",
       "    }\n",
       "\n",
       "    .dataframe tbody tr th {\n",
       "        vertical-align: top;\n",
       "    }\n",
       "\n",
       "    .dataframe thead th {\n",
       "        text-align: right;\n",
       "    }\n",
       "</style>\n",
       "<table border=\"1\" class=\"dataframe\">\n",
       "  <thead>\n",
       "    <tr style=\"text-align: right;\">\n",
       "      <th></th>\n",
       "      <th>Name</th>\n",
       "      <th>contno</th>\n",
       "    </tr>\n",
       "  </thead>\n",
       "  <tbody>\n",
       "    <tr>\n",
       "      <th>0</th>\n",
       "      <td>a</td>\n",
       "      <td>1</td>\n",
       "    </tr>\n",
       "    <tr>\n",
       "      <th>1</th>\n",
       "      <td>b</td>\n",
       "      <td>2</td>\n",
       "    </tr>\n",
       "    <tr>\n",
       "      <th>2</th>\n",
       "      <td>c</td>\n",
       "      <td>3</td>\n",
       "    </tr>\n",
       "  </tbody>\n",
       "</table>\n",
       "</div>"
      ],
      "text/plain": [
       "  Name  contno\n",
       "0    a       1\n",
       "1    b       2\n",
       "2    c       3"
      ]
     },
     "execution_count": 6,
     "metadata": {},
     "output_type": "execute_result"
    }
   ],
   "source": [
    "import pandas as pd\n",
    "\n",
    "df = pd.DataFrame({'Name' : ['a', 'b', 'c'], 'contno':[1,2,3]})\n",
    "\n",
    "df.head()"
   ]
  },
  {
   "cell_type": "code",
   "execution_count": null,
   "metadata": {},
   "outputs": [],
   "source": []
  },
  {
   "cell_type": "code",
   "execution_count": 8,
   "metadata": {},
   "outputs": [
    {
     "data": {
      "text/html": [
       "<div>\n",
       "<style scoped>\n",
       "    .dataframe tbody tr th:only-of-type {\n",
       "        vertical-align: middle;\n",
       "    }\n",
       "\n",
       "    .dataframe tbody tr th {\n",
       "        vertical-align: top;\n",
       "    }\n",
       "\n",
       "    .dataframe thead th {\n",
       "        text-align: right;\n",
       "    }\n",
       "</style>\n",
       "<table border=\"1\" class=\"dataframe\">\n",
       "  <thead>\n",
       "    <tr style=\"text-align: right;\">\n",
       "      <th></th>\n",
       "      <th>contno</th>\n",
       "    </tr>\n",
       "  </thead>\n",
       "  <tbody>\n",
       "    <tr>\n",
       "      <th>0</th>\n",
       "      <td>1</td>\n",
       "    </tr>\n",
       "    <tr>\n",
       "      <th>1</th>\n",
       "      <td>2</td>\n",
       "    </tr>\n",
       "    <tr>\n",
       "      <th>2</th>\n",
       "      <td>3</td>\n",
       "    </tr>\n",
       "  </tbody>\n",
       "</table>\n",
       "</div>"
      ],
      "text/plain": [
       "   contno\n",
       "0       1\n",
       "1       2\n",
       "2       3"
      ]
     },
     "execution_count": 8,
     "metadata": {},
     "output_type": "execute_result"
    }
   ],
   "source": [
    "df[['contno']]"
   ]
  },
  {
   "cell_type": "code",
   "execution_count": 9,
   "metadata": {},
   "outputs": [],
   "source": [
    "independent_train_X = df.drop(columns = ['contno'], axis = 1)\n",
    "dependent_train_Y = df[['contno']]"
   ]
  },
  {
   "cell_type": "code",
   "execution_count": 10,
   "metadata": {},
   "outputs": [
    {
     "data": {
      "text/html": [
       "<div>\n",
       "<style scoped>\n",
       "    .dataframe tbody tr th:only-of-type {\n",
       "        vertical-align: middle;\n",
       "    }\n",
       "\n",
       "    .dataframe tbody tr th {\n",
       "        vertical-align: top;\n",
       "    }\n",
       "\n",
       "    .dataframe thead th {\n",
       "        text-align: right;\n",
       "    }\n",
       "</style>\n",
       "<table border=\"1\" class=\"dataframe\">\n",
       "  <thead>\n",
       "    <tr style=\"text-align: right;\">\n",
       "      <th></th>\n",
       "      <th>Name</th>\n",
       "    </tr>\n",
       "  </thead>\n",
       "  <tbody>\n",
       "    <tr>\n",
       "      <th>0</th>\n",
       "      <td>a</td>\n",
       "    </tr>\n",
       "    <tr>\n",
       "      <th>1</th>\n",
       "      <td>b</td>\n",
       "    </tr>\n",
       "    <tr>\n",
       "      <th>2</th>\n",
       "      <td>c</td>\n",
       "    </tr>\n",
       "  </tbody>\n",
       "</table>\n",
       "</div>"
      ],
      "text/plain": [
       "  Name\n",
       "0    a\n",
       "1    b\n",
       "2    c"
      ]
     },
     "execution_count": 10,
     "metadata": {},
     "output_type": "execute_result"
    }
   ],
   "source": [
    "independent_train_X"
   ]
  },
  {
   "cell_type": "code",
   "execution_count": 11,
   "metadata": {},
   "outputs": [
    {
     "data": {
      "text/html": [
       "<div>\n",
       "<style scoped>\n",
       "    .dataframe tbody tr th:only-of-type {\n",
       "        vertical-align: middle;\n",
       "    }\n",
       "\n",
       "    .dataframe tbody tr th {\n",
       "        vertical-align: top;\n",
       "    }\n",
       "\n",
       "    .dataframe thead th {\n",
       "        text-align: right;\n",
       "    }\n",
       "</style>\n",
       "<table border=\"1\" class=\"dataframe\">\n",
       "  <thead>\n",
       "    <tr style=\"text-align: right;\">\n",
       "      <th></th>\n",
       "      <th>contno</th>\n",
       "    </tr>\n",
       "  </thead>\n",
       "  <tbody>\n",
       "    <tr>\n",
       "      <th>0</th>\n",
       "      <td>1</td>\n",
       "    </tr>\n",
       "    <tr>\n",
       "      <th>1</th>\n",
       "      <td>2</td>\n",
       "    </tr>\n",
       "    <tr>\n",
       "      <th>2</th>\n",
       "      <td>3</td>\n",
       "    </tr>\n",
       "  </tbody>\n",
       "</table>\n",
       "</div>"
      ],
      "text/plain": [
       "   contno\n",
       "0       1\n",
       "1       2\n",
       "2       3"
      ]
     },
     "execution_count": 11,
     "metadata": {},
     "output_type": "execute_result"
    }
   ],
   "source": [
    "dependent_train_Y"
   ]
  },
  {
   "cell_type": "code",
   "execution_count": null,
   "metadata": {},
   "outputs": [],
   "source": []
  },
  {
   "cell_type": "code",
   "execution_count": null,
   "metadata": {},
   "outputs": [],
   "source": []
  }
 ],
 "metadata": {
  "kernelspec": {
   "display_name": "Python 3",
   "language": "python",
   "name": "python3"
  },
  "language_info": {
   "codemirror_mode": {
    "name": "ipython",
    "version": 3
   },
   "file_extension": ".py",
   "mimetype": "text/x-python",
   "name": "python",
   "nbconvert_exporter": "python",
   "pygments_lexer": "ipython3",
   "version": "3.12.0"
  }
 },
 "nbformat": 4,
 "nbformat_minor": 2
}
